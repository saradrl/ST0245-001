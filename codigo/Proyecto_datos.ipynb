{
  "cells": [
    {
      "cell_type": "code",
      "execution_count": 4,
      "metadata": {
        "id": "2PNNyayQiujn"
      },
      "outputs": [],
      "source": [
        "#Bloque0 Instalación de la libreria pydeck\n",
        "#https://deckgl.readthedocs.io/en/latest/installation.html\n",
        "#pip install pydeck\n"
      ]
    },
    {
      "cell_type": "code",
      "execution_count": 1,
      "metadata": {
        "id": "lu3xTf-XjLNN"
      },
      "outputs": [],
      "source": [
        "#RECOMENDACIONES:\n",
        "#Una vez bajado el proyecto, dirijirse a la documentación de pydeck e instalar todas las dependecias necesarias.\n",
        "#Recomendamos abrir el proyecto en jupiter o google colab para evitar dificultades.\n",
        "#Link de colab: https://colab.research.google.com/drive/1Zta-DxXfS5pVaC7_lG19Ib7rfMoBaOmo\n",
        "\n",
        "# Bloque1 (Importación de librerias y de datos)\n",
        "import pandas as pd\n",
        "import pydeck as pdk\n",
        "import numpy as np\n",
        "import networkx as nx\n",
        "archivo=pd.read_csv(\"https://raw.githubusercontent.com/mauriciotoro/ST0245-Eafit/master/proyecto/Datasets/calles_de_medellin_con_acoso.csv\", sep=\";\")\n",
        "poligono=pd.read_csv(\"https://raw.githubusercontent.com/mauriciotoro/ST0245-Eafit/master/proyecto/Datasets/poligono_de_medellin.csv\", sep=\";\")\n",
        "\n"
      ]
    },
    {
      "cell_type": "code",
      "execution_count": null,
      "metadata": {
        "id": "PNvn19t1BMnW"
      },
      "outputs": [],
      "source": [
        "#Bloque2 (Medir zonas con más alto riesgo)\n",
        "acoso=archivo['harassmentRisk']>0.97\n",
        "archivo2=archivo[acoso]\n",
        "\n",
        "#Eliminamos columnas sobrantes\n",
        "del(archivo2['name'])\n",
        "del(archivo2['length'])\n",
        "del(archivo2['oneway'])\n",
        "del(archivo2['harassmentRisk'])\n",
        "del(archivo2['geometry'])\n",
        "\n",
        "#divimos las longitudes y latitudes de origen y destino \n",
        "archivo2['longitud_d']=archivo2['destination'].map(lambda x:x.split(',')[0])\n",
        "archivo2['latitud_d']=archivo2['destination'].map(lambda x:x.split(',')[1])\n",
        "archivo2['longitud_o']=archivo2['origin'].map(lambda x:x.split(',')[0])\n",
        "archivo2['latitud_o']=archivo2['origin'].map(lambda x:x.split(',')[1])\n",
        "\n",
        "#borramos las columnas de origin y destination\n",
        "del(archivo2['origin'])\n",
        "del(archivo2['destination'])\n",
        "#eliminamos los parentesis y los pasamos a float\n",
        "archivo2=archivo2.replace('\\(|\\)','',regex=True).astype(float)\n",
        "\n",
        "#Nueva lista que indica el color de las calles de alto riesgo de acoso\n",
        "color = []\n",
        "for _ in range(7576):\n",
        "   color.append(\"#ed1c24\")\n",
        "\n",
        "#Nueva lista con el nommbre que aparecera con pongamos el mouse sobre la ruta\n",
        "name = []\n",
        "for _ in range(7576):\n",
        "   name.append(\"Alto riesgo de acoso\")\n",
        "\n",
        "#Lista final con el mayor número de acoso en las calles\n",
        "acoso_o = list(zip(archivo2.longitud_o,archivo2.latitud_o))\n",
        "acoso_d = list(zip(archivo2.longitud_d,archivo2.latitud_d))\n",
        "acoso_M=list(zip(acoso_o,acoso_d))\n",
        "mayor_acoso=list(zip(name,color,acoso_M))\n",
        "mayor_acoso"
      ]
    },
    {
      "cell_type": "code",
      "execution_count": 3,
      "metadata": {
        "id": "fWUnS2x-izC_"
      },
      "outputs": [],
      "source": [
        "#Bloque3 (organización de información y coordenadas del usuario)\n",
        "distancia = nx.from_pandas_edgelist(archivo, source='origin', target='destination', edge_attr='length')\n",
        "\n",
        "origin_long=float(input(\"Ingrese longitud del origen: \"))\n",
        "origin_lat=float(input(\"Ingrese latitud del origen: \"))\n",
        "\n",
        "#Coordenadas de origen\n",
        "origen=(origin_long, origin_lat)\n",
        "\n",
        "destination_long=float(input(\"Ingrese longitud del destino: \"))\n",
        "destination_lat=float(input(\"Ingrese latitud del destino: \"))\n",
        "\n",
        "#Coordenadas de destino\n",
        "destino=(destination_long,destination_lat)\n",
        "\n"
      ]
    },
    {
      "cell_type": "code",
      "execution_count": null,
      "metadata": {
        "id": "qCfKks6EMQY3"
      },
      "outputs": [],
      "source": [
        "#Bloque4 (Imprimir vertices o nodos de la grafica)\n",
        "distancia.nodes()"
      ]
    },
    {
      "cell_type": "code",
      "execution_count": null,
      "metadata": {
        "id": "ZK_cXw6tNCq8"
      },
      "outputs": [],
      "source": [
        "#Bloque5 (Imprimir las aristas de las distancias)\n",
        "distancia.edges()"
      ]
    },
    {
      "cell_type": "code",
      "execution_count": null,
      "metadata": {
        "id": "P-z-N9HMNPRe"
      },
      "outputs": [],
      "source": [
        "#Bloque6 (Cantidad de vertices o nodos)\n",
        "distancia.order()"
      ]
    },
    {
      "cell_type": "code",
      "execution_count": null,
      "metadata": {
        "id": "053LEwraNiqY"
      },
      "outputs": [],
      "source": [
        "#Bloque7 (Implementacion de algoritmo dijkstra para ruta más corta en una lista de strings)\n",
        "djk_distancia=nx.dijkstra_path(distancia, source=str(origen), target=str(destino), weight=True)\n",
        "djk_distancia\n"
      ]
    },
    {
      "cell_type": "code",
      "execution_count": null,
      "metadata": {
        "id": "HaZGGQTxagy0"
      },
      "outputs": [],
      "source": [
        "#Bloque8\n",
        "#Pasamos a dataframe el resultado\n",
        "dist = pd.DataFrame(djk_distancia,columns=['calles'])\n",
        "\n",
        "# dividimos en dos columnas la longitud y la latitud\n",
        "dist['longitud']=dist['calles'].map(lambda x:x.split(',')[0])\n",
        "dist['latitud']=dist['calles'].map(lambda x:x.split(',')[1])\n",
        "\n",
        "#borramos la columna de calles\n",
        "del(dist['calles'])\n",
        "\n",
        "#eliminamos los parentesis y los pasamos a float\n",
        "dist=dist.replace('\\(|\\)','',regex=True).astype(float)\n",
        "\n",
        "#hacemos una nueva lista con el sistemas de coordenadas tipo turple\n",
        "points = list(zip(dist.longitud,dist.latitud))\n",
        "\n",
        "\n",
        "points"
      ]
    },
    {
      "cell_type": "code",
      "execution_count": null,
      "metadata": {
        "id": "d2kH6AiERo20"
      },
      "outputs": [],
      "source": [
        "#Bloque9 (Nueva lista con información de ruta mas corta)\n",
        "calles=[points]\n",
        "name=[\"Distancia más corta\"]\n",
        "color=[\"#ff0080\"]\n",
        "camino=list(zip(name,color,calles))\n",
        "\n",
        "camino"
      ]
    },
    {
      "cell_type": "code",
      "execution_count": null,
      "metadata": {
        "id": "c1ZWB4SrJeCn"
      },
      "outputs": [],
      "source": [
        "#Bloque 10 (Nuevo dataframe de las rutas de mayor acoso)\n",
        "ruta_acoso=pd.DataFrame(mayor_acoso, columns=['name','color','path'])\n",
        "ruta_acoso"
      ]
    },
    {
      "cell_type": "code",
      "execution_count": null,
      "metadata": {
        "id": "F1NEITExMRdj"
      },
      "outputs": [],
      "source": [
        "#Bloque10 Nuevo dataframe para colorear la ruta más corta\n",
        "distancia_corta = pd.DataFrame(camino, columns=['name','color','path'])\n",
        "distancia_corta\n"
      ]
    },
    {
      "cell_type": "code",
      "execution_count": null,
      "metadata": {
        "id": "zvNs90PSMp2F"
      },
      "outputs": [],
      "source": [
        "#Bloque11 Unión de los dataframe, para exportar datos en el mapa\n",
        "rutas = [distancia_corta,ruta_acoso]\n",
        "final=pd.concat(rutas)\n",
        "final"
      ]
    },
    {
      "cell_type": "code",
      "execution_count": null,
      "metadata": {
        "colab": {
          "base_uri": "https://localhost:8080/",
          "height": 1000
        },
        "id": "mmTm_8F1jqQp",
        "outputId": "59e42094-59a0-4e1e-a6a8-13335f4c3e23"
      },
      "outputs": [],
      "source": [
        "#Bloque12 (Exportar mapa)\n",
        "\n",
        "#Función que lee el color de la ruta y la pinta\n",
        "def ruta_color(d):\n",
        "    d = d.lstrip(\"#\")\n",
        "    return tuple(int(d[i : i + 2], 16) for i in (0, 2, 4))\n",
        "\n",
        "\n",
        "final[\"color\"] = final[\"color\"].apply(ruta_color)\n",
        "\n",
        "#Coordenadas en donde aparece el mapa en el lugar de origen\n",
        "coordenadas_map = pdk.ViewState(latitude=origin_lat, longitude=origin_long, zoom=18, bearing=0, pitch=45)\n",
        "\n",
        "#Caracteristicas del mapa\n",
        "layer = pdk.Layer(\n",
        "    type=\"PathLayer\",\n",
        "    data=final,\n",
        "    pickable=True,\n",
        "    get_color=\"color\",\n",
        "    width_scale=2,\n",
        "    width_min_pixels=2,\n",
        "    get_path=\"path\",\n",
        "    get_width=2,\n",
        ")  \n",
        "\n",
        "#extraemos propiedades del mapa\n",
        "mapa = pdk.Deck(layers=[layer], initial_view_state = coordenadas_map, tooltip={\"text\": \"{name}\"})\n",
        "\n",
        "#pasamos el mapa a html\n",
        "mapa.to_html(\"map.html\")"
      ]
    }
  ],
  "metadata": {
    "colab": {
      "collapsed_sections": [],
      "name": "Proyecto datos.ipynb",
      "provenance": []
    },
    "kernelspec": {
      "display_name": "Python 3",
      "name": "python3"
    },
    "language_info": {
      "codemirror_mode": {
        "name": "ipython",
        "version": 3
      },
      "file_extension": ".py",
      "mimetype": "text/x-python",
      "name": "python",
      "nbconvert_exporter": "python",
      "pygments_lexer": "ipython3",
      "version": "3.8.3"
    }
  },
  "nbformat": 4,
  "nbformat_minor": 0
}
