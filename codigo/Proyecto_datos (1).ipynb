{
  "cells": [
    {
      "cell_type": "code",
      "execution_count": null,
      "metadata": {
        "id": "2PNNyayQiujn"
      },
      "outputs": [],
      "source": [
        "#Bloque0 Instalación de la libreria pydeck\n",
        "!pip install pydeck"
      ]
    },
    {
      "cell_type": "code",
      "execution_count": 3,
      "metadata": {
        "id": "lu3xTf-XjLNN"
      },
      "outputs": [],
      "source": [
        "#RECOMENDACIONES:\n",
        "#Una vez bajado el proyecto, dirijirse a la documentación de pydeck e instalar todas las dependecias necesarias.\n",
        "#Recomendamos abrir el proyecto en jupiter o google colab para evitar dificultades.\n",
        "\n",
        "# Bloque1 (Importación de librerias y de datos)\n",
        "import pandas as pd\n",
        "import pydeck as pdk\n",
        "import numpy as np\n",
        "import networkx as nx\n",
        "archivo=pd.read_csv(\"https://raw.githubusercontent.com/mauriciotoro/ST0245-Eafit/master/proyecto/Datasets/calles_de_medellin_con_acoso.csv\", sep=\";\")\n",
        "poligono=pd.read_csv(\"https://raw.githubusercontent.com/mauriciotoro/ST0245-Eafit/master/proyecto/Datasets/poligono_de_medellin.csv\", sep=\";\")\n",
        "\n"
      ]
    },
    {
      "cell_type": "code",
      "execution_count": 13,
      "metadata": {
        "id": "_q89GqX3iDYN"
      },
      "outputs": [],
      "source": [
        "#Bloque 2 (llenar vacios con ceros)\n",
        "archivos=archivo.fillna(0)"
      ]
    },
    {
      "cell_type": "code",
      "source": [
        "#Bloque 3 (Sacar promedio de acoso y distancia, a traves de  la multiplicación)\n",
        "archivos['promedio']=archivos.length*archivos.harassmentRisk\n",
        "archivos"
      ],
      "metadata": {
        "id": "vG9X-9r2Bdin"
      },
      "execution_count": null,
      "outputs": []
    },
    {
      "cell_type": "code",
      "execution_count": null,
      "metadata": {
        "id": "PNvn19t1BMnW"
      },
      "outputs": [],
      "source": [
        "#Bloque 4 (Medir zonas con más alto riesgo)\n",
        "acoso=archivo['harassmentRisk']>0.97\n",
        "archivo2=archivo[acoso]\n",
        "\n",
        "#Eliminamos columnas sobrantes\n",
        "del(archivo2['name'])\n",
        "del(archivo2['length'])\n",
        "del(archivo2['oneway'])\n",
        "del(archivo2['harassmentRisk'])\n",
        "del(archivo2['geometry'])\n",
        "\n",
        "#divimos las longitudes y latitudes de origen y destino \n",
        "archivo2['longitud_d']=archivo2['destination'].map(lambda x:x.split(',')[0])\n",
        "archivo2['latitud_d']=archivo2['destination'].map(lambda x:x.split(',')[1])\n",
        "archivo2['longitud_o']=archivo2['origin'].map(lambda x:x.split(',')[0])\n",
        "archivo2['latitud_o']=archivo2['origin'].map(lambda x:x.split(',')[1])\n",
        "\n",
        "#borramos las columnas de origin y destination\n",
        "del(archivo2['origin'])\n",
        "del(archivo2['destination'])\n",
        "#eliminamos los parentesis y los pasamos a float\n",
        "archivo2=archivo2.replace('\\(|\\)','',regex=True).astype(float)\n",
        "\n",
        "#Nueva lista que indica el color de las calles de alto riesgo de acoso\n",
        "color = []\n",
        "for _ in range(7576):\n",
        "   color.append(\"#ed1c24\")\n",
        "\n",
        "#Nueva lista con el nommbre que aparecera con pongamos el mouse sobre la ruta\n",
        "name = []\n",
        "for _ in range(7576):\n",
        "   name.append(\"Alto riesgo de acoso\")\n",
        "\n",
        "#Lista final con el mayor número de acoso en las calles\n",
        "acoso_o = list(zip(archivo2.longitud_o,archivo2.latitud_o))\n",
        "acoso_d = list(zip(archivo2.longitud_d,archivo2.latitud_d))\n",
        "acoso_M=list(zip(acoso_o,acoso_d))\n",
        "mayor_acoso=list(zip(name,color,acoso_M))\n",
        "mayor_acoso"
      ]
    },
    {
      "cell_type": "code",
      "execution_count": null,
      "metadata": {
        "id": "fWUnS2x-izC_"
      },
      "outputs": [],
      "source": [
        "#Bloque 5 (organización de información y coordenadas del usuario)\n",
        "distancia = nx.from_pandas_edgelist(archivos, source='origin', target='destination', edge_attr='length')\n",
        "acoso = nx.from_pandas_edgelist(archivos, source='origin', target='destination', edge_attr='harassmentRisk')\n",
        "promedio = nx.from_pandas_edgelist(archivos, source='origin', target='destination', edge_attr='promedio')\n",
        "\n",
        "distancia\n",
        "\n",
        "origin_long=float(input(\"Ingrese longitud del origen: \"))\n",
        "origin_lat=float(input(\"Ingrese latitud del origen: \"))\n",
        "\n",
        "#Coordenadas de origen\n",
        "origen=(origin_long, origin_lat)\n",
        "\n",
        "destination_long=float(input(\"Ingrese longitud del destino: \"))\n",
        "destination_lat=float(input(\"Ingrese latitud del destino: \"))\n",
        "\n",
        "#Coordenadas de destino\n",
        "destino=(destination_long,destination_lat)\n",
        "\n"
      ]
    },
    {
      "cell_type": "code",
      "execution_count": null,
      "metadata": {
        "id": "qCfKks6EMQY3"
      },
      "outputs": [],
      "source": [
        "#Bloque6 (Imprimir vertices o nodos de la grafica)\n",
        "distancia.nodes()"
      ]
    },
    {
      "cell_type": "code",
      "execution_count": null,
      "metadata": {
        "id": "ZK_cXw6tNCq8"
      },
      "outputs": [],
      "source": [
        "#Bloque7 (Imprimir las aristas de las distancias)\n",
        "distancia.edges()"
      ]
    },
    {
      "cell_type": "code",
      "execution_count": null,
      "metadata": {
        "id": "P-z-N9HMNPRe"
      },
      "outputs": [],
      "source": [
        "#Bloque8 (Cantidad de vertices o nodos)\n",
        "distancia.order()"
      ]
    },
    {
      "cell_type": "code",
      "execution_count": null,
      "metadata": {
        "id": "053LEwraNiqY"
      },
      "outputs": [],
      "source": [
        "#Bloque9 (Implementacion de algoritmo dijkstra para ruta más corta en una lista de strings)\n",
        "djk_distancia=nx.dijkstra_path(distancia, source=str(origen), target=str(destino), weight='length')\n",
        "long_distancia=nx.dijkstra_path_length(distancia, source=str(origen), target=str(destino), weight=True)\n",
        "djk_distancia\n"
      ]
    },
    {
      "cell_type": "code",
      "execution_count": null,
      "metadata": {
        "id": "JkoJRN0RffPO"
      },
      "outputs": [],
      "source": [
        "#Bloque11 (Implementacion de algoritmo dijkstra para ruta con menos acoso en una lista de strings)\n",
        "djk_acoso=nx.dijkstra_path(acoso, source=str(origen), target=str(destino), weight='harassmentRisk')\n",
        "lon_acoso=nx.dijkstra_path_length(acoso, source=str(origen), target=str(destino), weight='harassmentRisk')\n",
        "djk_acoso"
      ]
    },
    {
      "cell_type": "code",
      "execution_count": null,
      "metadata": {
        "id": "RxSyAtypinm9"
      },
      "outputs": [],
      "source": [
        "#Bloque12 (Implementacion de algoritmo dijkstra para el promedio de rutas en una lista de strings)\n",
        "djk_promedio=nx.dijkstra_path(promedio, source=str(origen), target=str(destino), weight='promedio')\n",
        "lon_promedio=nx.dijkstra_path_length(promedio, source=str(origen), target=str(destino), weight='promedio')\n",
        "djk_promedio"
      ]
    },
    {
      "cell_type": "code",
      "execution_count": null,
      "metadata": {
        "id": "HaZGGQTxagy0"
      },
      "outputs": [],
      "source": [
        "#Bloque13\n",
        "#Pasamos a dataframe el resultado\n",
        "dist = pd.DataFrame(djk_distancia,columns=['calles'])\n",
        "\n",
        "# dividimos en dos columnas la longitud y la latitud\n",
        "dist['longitud']=dist['calles'].map(lambda x:x.split(',')[0])\n",
        "dist['latitud']=dist['calles'].map(lambda x:x.split(',')[1])\n",
        "\n",
        "#borramos la columna de calles\n",
        "del(dist['calles'])\n",
        "\n",
        "#eliminamos los parentesis y los pasamos a float\n",
        "dist=dist.replace('\\(|\\)','',regex=True).astype(float)\n",
        "\n",
        "#hacemos una nueva lista con el sistemas de coordenadas tipo turple\n",
        "points = list(zip(dist.longitud,dist.latitud))\n",
        "points"
      ]
    },
    {
      "cell_type": "code",
      "execution_count": null,
      "metadata": {
        "id": "d2kH6AiERo20"
      },
      "outputs": [],
      "source": [
        "#Bloque14 (Nueva lista con información de ruta mas corta)\n",
        "calles=[points]\n",
        "name=[\"Distancia más corta, con una longitud de: \" + str(long_distancia) + \" calles\"]\n",
        "color=[\"#ff0080\"]\n",
        "camino=list(zip(name,color,calles))\n",
        "\n",
        "camino"
      ]
    },
    {
      "cell_type": "code",
      "source": [
        "#Bloque15\n",
        "#Pasamos a dataframe el resultado\n",
        "acs = pd.DataFrame(djk_acoso,columns=['ruta'])\n",
        "\n",
        "# dividimos en dos columnas la longitud y la latitud\n",
        "acs['longitud']=acs['ruta'].map(lambda x:x.split(',')[0])\n",
        "acs['latitud']=acs['ruta'].map(lambda x:x.split(',')[1])\n",
        "\n",
        "#borramos la columna de calles\n",
        "del(acs['ruta'])\n",
        "\n",
        "#eliminamos los parentesis y los pasamos a float\n",
        "acs=acs.replace('\\(|\\)','',regex=True).astype(float)\n",
        "\n",
        "#hacemos una nueva lista con el sistemas de coordenadas tipo turple\n",
        "puntos = list(zip(acs.longitud,acs.latitud))\n",
        "puntos"
      ],
      "metadata": {
        "id": "3q6AdGkPElJ8"
      },
      "execution_count": null,
      "outputs": []
    },
    {
      "cell_type": "code",
      "source": [
        "#Bloque16 (Nueva lista con información de ruta mas corta)\n",
        "calles_acoso=[puntos]\n",
        "name=[\"Distancia con menos acoso, con una longitud de: \" + str(lon_acoso) + \" de acoso\"]\n",
        "color=[\"#FFEB00\"]\n",
        "camino_acoso=list(zip(name,color,calles_acoso))\n",
        "\n",
        "camino_acoso"
      ],
      "metadata": {
        "id": "8NecDbSaFlGg"
      },
      "execution_count": null,
      "outputs": []
    },
    {
      "cell_type": "code",
      "source": [
        "#Bloque17\n",
        "#Pasamos a dataframe el resultado\n",
        "prom = pd.DataFrame(djk_promedio,columns=['suma'])\n",
        "\n",
        "# dividimos en dos columnas la longitud y la latitud\n",
        "prom['longitud']=prom['suma'].map(lambda x:x.split(',')[0])\n",
        "prom['latitud']=prom['suma'].map(lambda x:x.split(',')[1])\n",
        "\n",
        "#borramos la columna de calles\n",
        "del(prom['suma'])\n",
        "\n",
        "#eliminamos los parentesis y los pasamos a float\n",
        "prom=prom.replace('\\(|\\)','',regex=True).astype(float)\n",
        "\n",
        "#hacemos una nueva lista con el sistemas de coordenadas tipo turple\n",
        "pus = list(zip(prom.longitud,prom.latitud))\n",
        "pus"
      ],
      "metadata": {
        "id": "r8424AlgF3se"
      },
      "execution_count": null,
      "outputs": []
    },
    {
      "cell_type": "code",
      "source": [
        "#Bloque18 (Nueva lista con información de ruta mas corta)\n",
        "calles_prom=[pus]\n",
        "name=[\"Distancia de promedio de acoso y distancia, con una longitud de: \" + str(lon_promedio) + \" promedio\"]\n",
        "color=[\"#03972D\"]\n",
        "suma=list(zip(name,color,calles_prom))\n",
        "\n",
        "suma"
      ],
      "metadata": {
        "id": "raZJ6JFhGu5Y"
      },
      "execution_count": null,
      "outputs": []
    },
    {
      "cell_type": "code",
      "execution_count": null,
      "metadata": {
        "id": "c1ZWB4SrJeCn"
      },
      "outputs": [],
      "source": [
        "#Bloque 19 (Nuevo dataframe de las rutas de mayor acoso)\n",
        "ruta_acoso=pd.DataFrame(mayor_acoso, columns=['name','color','path'])\n",
        "ruta_acoso"
      ]
    },
    {
      "cell_type": "code",
      "execution_count": null,
      "metadata": {
        "id": "F1NEITExMRdj"
      },
      "outputs": [],
      "source": [
        "#Bloque20 Nuevo dataframe para colorear la ruta más corta\n",
        "distancia_corta = pd.DataFrame(camino, columns=['name','color','path'])\n",
        "distancia_corta"
      ]
    },
    {
      "cell_type": "code",
      "source": [
        "#Bloque21 Nuevo dataframe para colorear la ruta con menos acoso\n",
        "distancia_acoso = pd.DataFrame(camino_acoso, columns=['name','color','path'])\n",
        "distancia_acoso"
      ],
      "metadata": {
        "id": "G9nvHCHCHTvc"
      },
      "execution_count": null,
      "outputs": []
    },
    {
      "cell_type": "code",
      "source": [
        "#Bloque22 Nuevo dataframe para colorear la ruta con promedio\n",
        "dista_prom = pd.DataFrame(suma, columns=['name','color','path'])\n",
        "dista_prom"
      ],
      "metadata": {
        "id": "IvqzkkcOH88e"
      },
      "execution_count": null,
      "outputs": []
    },
    {
      "cell_type": "code",
      "execution_count": null,
      "metadata": {
        "id": "zvNs90PSMp2F"
      },
      "outputs": [],
      "source": [
        "#Bloque23 Unión de los dataframe, para exportar datos en el mapa\n",
        "rutas = [distancia_corta, distancia_acoso, dista_prom, ruta_acoso]\n",
        "final=pd.concat(rutas)\n",
        "final"
      ]
    },
    {
      "cell_type": "code",
      "execution_count": null,
      "metadata": {
        "id": "mmTm_8F1jqQp"
      },
      "outputs": [],
      "source": [
        "#Bloque24 (Exportar mapa)\n",
        "\n",
        "#Función que lee el color de la ruta y la pinta\n",
        "def ruta_color(d):\n",
        "    d = d.lstrip(\"#\")\n",
        "    return tuple(int(d[i : i + 2], 16) for i in (0, 2, 4))\n",
        "\n",
        "\n",
        "final[\"color\"] = final[\"color\"].apply(ruta_color)\n",
        "\n",
        "#Coordenadas en donde aparece el mapa en el lugar de origen\n",
        "coordenadas_map = pdk.ViewState(latitude=origin_lat, longitude=origin_long, zoom=18, bearing=0, pitch=45)\n",
        "\n",
        "#Caracteristicas del mapa\n",
        "layer = pdk.Layer(\n",
        "    type=\"PathLayer\",\n",
        "    data=final,\n",
        "    pickable=True,\n",
        "    get_color=\"color\",\n",
        "    width_scale=2,\n",
        "    width_min_pixels=2,\n",
        "    get_path=\"path\",\n",
        "    get_width=2,\n",
        ")  \n",
        "\n",
        "#extraemos propiedades del mapa\n",
        "mapa = pdk.Deck(layers=[layer], initial_view_state = coordenadas_map, tooltip={\"text\": \"{name}\"})\n",
        "\n",
        "#pasamos el mapa a html\n",
        "mapa.to_html(\"map.html\")"
      ]
    }
  ],
  "metadata": {
    "colab": {
      "collapsed_sections": [],
      "name": "Proyecto datos.ipynb",
      "provenance": []
    },
    "kernelspec": {
      "display_name": "Python 3",
      "name": "python3"
    },
    "language_info": {
      "name": "python"
    }
  },
  "nbformat": 4,
  "nbformat_minor": 0
}